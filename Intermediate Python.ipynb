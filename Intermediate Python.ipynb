{
 "cells": [
  {
   "cell_type": "markdown",
   "id": "2605899a",
   "metadata": {},
   "source": [
    "# How is Everything Object in Python?"
   ]
  },
  {
   "cell_type": "markdown",
   "id": "eb65bc57",
   "metadata": {},
   "source": [
    "# What is an object in python?<br>\n",
    "An object is an entity that contains data along with associated metadata or functionality, this data contained in an object are\n",
    "known as the object's data attributes.  These attributes are simply variables that reference the data. The procedures or series\n",
    "of activities conducted in a certain order or manner that an object performs are known as the methods. An object’s methods are\n",
    "functions that perform operations on the objects data attributes.\n",
    "\n",
    "\n",
    "<p>The statement that “Everything in Python is an object” means in the sense that it can be assigned to a variable or passed as an argument to a function. So the objects are the building blocks of an object-oriented program, as the program that uses object-oriented technology is basically a collection of objects. Hence programmes written in python is also a collection of these objects in the form of variables. So it is important to revise that everything in Python objects it means that the strings are objects, Lists are objects, Functions are objects and Even modules are also objects.</p>"
   ]
  },
  {
   "cell_type": "markdown",
   "id": "e0063534",
   "metadata": {},
   "source": [
    "Everything assigned right side of the equal sign is an object in python.Like variable, strings, lists, functions even modules are objects.Python is object oriented programming language, it's mean that it uses objects to structure and organize code.\n",
    "Every object in python has an identity, a type and a value. This means that everything in python is an object.\n",
    "\n",
    "It can be assigned to a variable or passed as an argument to a function. So the objects are the building blocks of an object-oriented program, as the program that uses object-oriented technology is basically a collection of objects.\n",
    "\n",
    "In Python everything is an object, which means every entity has some metadata called “attributes” and associated functionality called “methods”. These attributes and methods are accessed via the dot syntax.\n",
    "\n",
    "An object is a collection of data (variables) and methods (functions) that act on those data. An object can be seen as a \"thing\" that can perform certain operations. Objects are used to represent real-world objects, such as a person, car, or house."
   ]
  },
  {
   "cell_type": "code",
   "execution_count": 20,
   "id": "72546cd1",
   "metadata": {},
   "outputs": [
    {
     "name": "stdout",
     "output_type": "stream",
     "text": [
      "<class 'int'>\n",
      "<class 'str'>\n",
      "<class 'float'>\n"
     ]
    }
   ],
   "source": [
    "a = 5\n",
    "name = \"John Doe\"\n",
    "price = 500.45\n",
    " \n",
    "\n",
    "print(type(a))\n",
    "print(type(name))\n",
    "print(type(price))\n",
    "\n",
    "# output shows that variable a is object of int class, name is of string class and price is object og float class.\n"
   ]
  },
  {
   "cell_type": "markdown",
   "id": "8ff913c7",
   "metadata": {},
   "source": [
    "# Comprehension"
   ]
  },
  {
   "cell_type": "markdown",
   "id": "ff3c889c",
   "metadata": {},
   "source": [
    "The shorthand syntax for creating collections and iterable object\n",
    "It can be possible in :\n",
    "    List, Set, Dictionary, Generator, Comprehension with if-else:\n",
    "        \n",
    "\n",
    "Even multiple and nested comprehension is also possible.\n",
    "\n",
    "Comprehension in Python provides many benefits, including:\n",
    "\n",
    "1. Improved readability: Comprehension makes it easier to understand a code block in a single glance.\n",
    "\n",
    "2. Faster coding: Comprehension allows for faster coding as it eliminates the need for multiple lines of code.\n",
    "\n",
    "3. Better memory utilization: Comprehension results in more efficient memory usage as it does not require the creation of multiple objects.\n",
    "\n",
    "4. Improved performance: Comprehension can often result in better performance as the code is more concise and efficient.\n"
   ]
  },
  {
   "cell_type": "markdown",
   "id": "1387163f",
   "metadata": {},
   "source": [
    "# List comprehension:\n",
    "\n"
   ]
  },
  {
   "cell_type": "markdown",
   "id": "38eb2fa9",
   "metadata": {},
   "source": [
    "[ expr(item) for item in iterable ]"
   ]
  },
  {
   "cell_type": "code",
   "execution_count": 17,
   "id": "62bb18e8",
   "metadata": {},
   "outputs": [
    {
     "name": "stdout",
     "output_type": "stream",
     "text": [
      "['apple', 'banana', 'mango']\n"
     ]
    }
   ],
   "source": [
    "fruits = [\"apple\", \"banana\", \"cherry\", \"kiwi\", \"mango\"]\n",
    "\n",
    "newlist = [x for x in fruits if \"a\" in x]\n",
    "\n",
    "print(newlist)"
   ]
  },
  {
   "cell_type": "markdown",
   "id": "56bc7a4a",
   "metadata": {},
   "source": [
    "\n",
    "# Set Comprehension:"
   ]
  },
  {
   "cell_type": "markdown",
   "id": "c8dd81e5",
   "metadata": {},
   "source": [
    "\n",
    "{ expr(item) for item in iterable }"
   ]
  },
  {
   "cell_type": "code",
   "execution_count": 22,
   "id": "f6e86c81",
   "metadata": {},
   "outputs": [
    {
     "name": "stdout",
     "output_type": "stream",
     "text": [
      "{6, 12, 18, 24, 30}\n"
     ]
    }
   ],
   "source": [
    "myList = [1, 2, 3, 4, 5, 6, 7, 8, 9, 10]\n",
    "\n",
    "newSet = {element*3 for element in myList if element % 2 ==0}\n",
    "\n",
    "print(newSet)"
   ]
  },
  {
   "cell_type": "markdown",
   "id": "6190848a",
   "metadata": {},
   "source": [
    "# Dictionary Comprehension:"
   ]
  },
  {
   "cell_type": "markdown",
   "id": "c5295937",
   "metadata": {},
   "source": [
    "{ key_expr: value_expr for item in iterable }"
   ]
  },
  {
   "cell_type": "markdown",
   "id": "afa2142f",
   "metadata": {},
   "source": [
    "Dictionary comprehension allows the user to create a dictionary using a simple expression."
   ]
  },
  {
   "cell_type": "code",
   "execution_count": 26,
   "id": "e9471220",
   "metadata": {},
   "outputs": [
    {
     "data": {
      "text/plain": [
       "{1: 1, 2: 4, 3: 9, 4: 16, 5: 25, 6: 36, 7: 49, 8: 64, 9: 81, 10: 100}"
      ]
     },
     "execution_count": 26,
     "metadata": {},
     "output_type": "execute_result"
    }
   ],
   "source": [
    "{num: num*num for num in range(1,11)}"
   ]
  },
  {
   "cell_type": "markdown",
   "id": "e8ecaa42",
   "metadata": {},
   "source": [
    "# Generator Comprehension"
   ]
  },
  {
   "cell_type": "markdown",
   "id": "45586918",
   "metadata": {},
   "source": [
    "( expr(item) for item in iterable)"
   ]
  },
  {
   "cell_type": "markdown",
   "id": "f55355a0",
   "metadata": {},
   "source": [
    "\n",
    "Generator comprehensions are a variation of list comprehensions that create a generator instead of a list. Generator comprehensions are surrounded by parentheses rather than square brackets"
   ]
  },
  {
   "cell_type": "code",
   "execution_count": 39,
   "id": "06058683",
   "metadata": {},
   "outputs": [
    {
     "name": "stdout",
     "output_type": "stream",
     "text": [
      "0\n",
      "1\n",
      "4\n"
     ]
    }
   ],
   "source": [
    "my_generator = (x*x for x in range(5))\n",
    "\n",
    "print(next(my_generator)) \n",
    "print(next(my_generator)) \n",
    "print(next(my_generator)) "
   ]
  },
  {
   "cell_type": "markdown",
   "id": "816979e5",
   "metadata": {},
   "source": [
    "# Comprehension with If-clause:"
   ]
  },
  {
   "cell_type": "code",
   "execution_count": 3,
   "id": "f2d16259",
   "metadata": {},
   "outputs": [
    {
     "name": "stdout",
     "output_type": "stream",
     "text": [
      "[13, 10, 20, 37, 48]\n"
     ]
    }
   ],
   "source": [
    "a_list = [2, 4, 8, 13, 10,20,37,48]\n",
    "\n",
    "new_list = [item for item in a_list if item > 8]\n",
    "\n",
    "print(new_list) "
   ]
  },
  {
   "cell_type": "markdown",
   "id": "7ede1501",
   "metadata": {},
   "source": [
    "\n",
    "\n",
    "# Multiple Comprehension"
   ]
  },
  {
   "cell_type": "code",
   "execution_count": 41,
   "id": "235e8516",
   "metadata": {},
   "outputs": [
    {
     "data": {
      "text/plain": [
       "[(0, 0),\n",
       " (0, 1),\n",
       " (0, 2),\n",
       " (1, 0),\n",
       " (1, 1),\n",
       " (1, 2),\n",
       " (2, 0),\n",
       " (2, 1),\n",
       " (2, 2),\n",
       " (3, 0),\n",
       " (3, 1),\n",
       " (3, 2),\n",
       " (4, 0),\n",
       " (4, 1),\n",
       " (4, 2),\n",
       " (5, 0),\n",
       " (5, 1),\n",
       " (5, 2),\n",
       " (6, 0),\n",
       " (6, 1),\n",
       " (6, 2),\n",
       " (7, 0),\n",
       " (7, 1),\n",
       " (7, 2),\n",
       " (8, 0),\n",
       " (8, 1),\n",
       " (8, 2),\n",
       " (9, 0),\n",
       " (9, 1),\n",
       " (9, 2)]"
      ]
     },
     "execution_count": 41,
     "metadata": {},
     "output_type": "execute_result"
    }
   ],
   "source": [
    "[(x,y) for x in range(10) for y in range(3)]\n"
   ]
  },
  {
   "cell_type": "code",
   "execution_count": 39,
   "id": "121af34a",
   "metadata": {},
   "outputs": [
    {
     "name": "stdout",
     "output_type": "stream",
     "text": [
      "[(0, 0), (0, 1), (0, 2), (1, 0), (1, 1), (1, 2), (2, 0), (2, 1), (2, 2), (3, 0), (3, 1), (3, 2), (4, 0), (4, 1), (4, 2)]\n"
     ]
    }
   ],
   "source": [
    "values = [(x,y) for x in range(5) for y in range(3)]\n",
    "\n",
    "values = []\n",
    "for x in range(5):\n",
    "    for y in range(3):\n",
    "        values.append((x,y))\n",
    "print(values)"
   ]
  },
  {
   "cell_type": "markdown",
   "id": "85ab77ff",
   "metadata": {},
   "source": [
    "# Nested Comprehension"
   ]
  },
  {
   "cell_type": "code",
   "execution_count": 40,
   "id": "88ec3746",
   "metadata": {},
   "outputs": [
    {
     "data": {
      "text/plain": [
       "[[],\n",
       " [0],\n",
       " [0, 3],\n",
       " [0, 3, 6],\n",
       " [0, 3, 6, 9],\n",
       " [0, 3, 6, 9, 12],\n",
       " [0, 3, 6, 9, 12, 15],\n",
       " [0, 3, 6, 9, 12, 15, 18],\n",
       " [0, 3, 6, 9, 12, 15, 18, 21],\n",
       " [0, 3, 6, 9, 12, 15, 18, 21, 24]]"
      ]
     },
     "execution_count": 40,
     "metadata": {},
     "output_type": "execute_result"
    }
   ],
   "source": [
    "[[y*3 for y in range(x)] for x in range(10)]"
   ]
  },
  {
   "cell_type": "code",
   "execution_count": 43,
   "id": "b981f599",
   "metadata": {},
   "outputs": [
    {
     "name": "stdout",
     "output_type": "stream",
     "text": [
      "[[], [0], [0, 3], [0, 3, 6], [0, 3, 6, 9], [0, 3, 6, 9, 12], [0, 3, 6, 9, 12, 15], [0, 3, 6, 9, 12, 15, 18], [0, 3, 6, 9, 12, 15, 18, 21], [0, 3, 6, 9, 12, 15, 18, 21, 24]]\n"
     ]
    }
   ],
   "source": [
    "values = [[y*3 for y in range(x)] for x in range(10)]\n",
    "\n",
    "values = []\n",
    "for x in range(10):\n",
    "    inner = []\n",
    "    for y in range(x):\n",
    "        inner.append(y*3)\n",
    "    values.append(inner)\n",
    "    \n",
    "print(values)"
   ]
  },
  {
   "cell_type": "markdown",
   "id": "25b34c03",
   "metadata": {},
   "source": [
    "# Extended Keyword Arguments"
   ]
  },
  {
   "cell_type": "markdown",
   "id": "d045f3f5",
   "metadata": {},
   "source": [
    "<pre>Def function_name(arg1, arg2=1.0,):\n",
    "    BODY\n",
    "Arg1 => Positional Argument\n",
    "Arg2 => Keyword Argument</pre>"
   ]
  },
  {
   "cell_type": "markdown",
   "id": "cf53f4b3",
   "metadata": {},
   "source": [
    "What is Python *args ?\n",
    "<p>\n",
    "The special syntax *args in function definitions in python is used to pass a variable number of arguments to a function. It is used to pass a non-key worded, variable-length argument list. \n",
    "\n",
    "The syntax is to use the symbol * to take in a variable number of arguments; by convention, it is often used with the word args.\n",
    "What *args allows you to do is take in more arguments than the number of formal arguments that you previously defined. With *args, any number of extra arguments can be tacked on to your current formal parameters (including zero extra arguments).\n",
    "For example, we want to make a multiply function that takes any number of arguments and is able to multiply them all together. It can be done using *args.\n",
    "Using the *, the variable that we associate with the * becomes an iterable meaning you can do things like iterate over it, run some higher-order functions such as map and filter, etc.</p>"
   ]
  },
  {
   "cell_type": "code",
   "execution_count": 5,
   "id": "c41e5d20",
   "metadata": {},
   "outputs": [
    {
     "name": "stdout",
     "output_type": "stream",
     "text": [
      "Machine Learning\n",
      "Python\n",
      "Data Analyst\n"
     ]
    }
   ],
   "source": [
    " def myFun(*argv):\n",
    "    for arg in argv:\n",
    "        print(arg)\n",
    "\n",
    "\n",
    "myFun('Machine Learning', 'Python','Data Analyst')\n"
   ]
  },
  {
   "cell_type": "markdown",
   "id": "76df5f91",
   "metadata": {},
   "source": [
    "What is Python **kwargs\n",
    "The special syntax **kwargs in function definitions in python is used to pass a keyworded, variable-length argument list. We use the name kwargs with the double star. The reason is that the double star allows us to pass through keyword arguments (and any number of them).\n",
    "\n",
    "A keyword argument is where you provide a name to the variable as you pass it into the function.\n",
    "One can think of the kwargs as being a dictionary that maps each keyword to the value that we pass alongside it. That is why when we iterate over the kwargs there doesn’t seem to be any order in which they were printed out."
   ]
  },
  {
   "cell_type": "code",
   "execution_count": 8,
   "id": "99a89b3a",
   "metadata": {},
   "outputs": [
    {
     "name": "stdout",
     "output_type": "stream",
     "text": [
      "first : Numpy\n",
      "second : Pandas\n",
      "third : Matlpotlib\n"
     ]
    }
   ],
   "source": [
    "def myFun(**kwargs):\n",
    "    for key, value in kwargs.items():\n",
    "        print(\"%s : %s\" % (key, value))\n",
    "\n",
    "\n",
    "# Driver code\n",
    "myFun(first='Numpy', second='Pandas', third='Matlpotlib')\n"
   ]
  },
  {
   "cell_type": "code",
   "execution_count": 10,
   "id": "7aba3155",
   "metadata": {},
   "outputs": [
    {
     "name": "stdout",
     "output_type": "stream",
     "text": [
      "arg1: numpy\n",
      "arg2: pandas\n",
      "arg3: scipy\n",
      "arg1: numpy\n",
      "arg2: pandas\n",
      "arg3: scipy\n"
     ]
    }
   ],
   "source": [
    "def myFun(arg1, arg2, arg3):\n",
    "    print(\"arg1:\", arg1)\n",
    "    print(\"arg2:\", arg2)\n",
    "    print(\"arg3:\", arg3)\n",
    "\n",
    "    # *args example\n",
    "args = (\"numpy\", \"pandas\", \"scipy\")\n",
    "myFun(*args)\n",
    "\n",
    "# kwargs example\n",
    "kwargs = {\"arg1\": \"numpy\", \"arg2\": \"pandas\", \"arg3\": \"scipy\"}\n",
    "myFun(**kwargs)\n"
   ]
  },
  {
   "cell_type": "markdown",
   "id": "b7fb04ec",
   "metadata": {},
   "source": [
    "# Closures and Decorators"
   ]
  },
  {
   "cell_type": "markdown",
   "id": "2f89cd12",
   "metadata": {},
   "source": [
    "A Closure is a function object that remembers values in enclosing scopes even if they are not present in memory.  \n",
    "It is a record that stores a function together with an environment: a mapping associating each free variable of the function (variables that are used locally but defined in an enclosing scope) with the value or reference to which the name was bound when the closure was created.\n",
    "A closure—unlike a plain function—allows the function to access those captured variables through the closure’s copies of their values or references, even when the function is invoked outside their scope.\n",
    "\n",
    "Closure in Python is a technique for storing data in an enclosed scope. It is used to create functions that remember the values from the enclosing lexical scope even when the program flow is no longer in that scope.\n",
    "\n",
    "A closure is a function whose return value is depend on the value of one or more variable which are declared outside the function.\n",
    "\n",
    "We can use the closure in the following conditions:\n",
    "\n",
    "<li>A program must have a nested function.</li>\n",
    "<li>The function should refer to a value in the enclosed function.</li>\n",
    "<li>The enclosing function should return the nested function.</li>"
   ]
  },
  {
   "cell_type": "code",
   "execution_count": 11,
   "id": "0c069301",
   "metadata": {},
   "outputs": [
    {
     "name": "stdout",
     "output_type": "stream",
     "text": [
      "local\n"
     ]
    }
   ],
   "source": [
    "\n",
    "def outer_func():\n",
    "    x = \"local\"\n",
    "    def inner_func():\n",
    "        print(x)\n",
    "    return inner_func\n",
    "\n",
    "my_func = outer_func()\n",
    "my_func()\n"
   ]
  },
  {
   "cell_type": "markdown",
   "id": "46d6f9d7",
   "metadata": {},
   "source": [
    "if we delete outer_func method and later call my_func() it will print the same result (local) because it is storing the function values in the variable. It is able to remember the value which are declared which is text outside the function\n",
    "\n",
    "\n",
    "closures can be used in place of classes which have fewer method generally one method inside them.\n",
    "Closures are havily used with decorators in python."
   ]
  },
  {
   "cell_type": "code",
   "execution_count": 12,
   "id": "7adec6dd",
   "metadata": {},
   "outputs": [
    {
     "name": "stdout",
     "output_type": "stream",
     "text": [
      "100\n"
     ]
    }
   ],
   "source": [
    "def nth_power(exponent):\n",
    "    def power_of(base):\n",
    "        return pow(base, exponent)\n",
    "    return power_of\n",
    "\n",
    "square = nth_power(2)\n",
    "print(square(10))"
   ]
  },
  {
   "cell_type": "markdown",
   "id": "3f4c3e7c",
   "metadata": {},
   "source": [
    "A decorator in Python is a special type of function which is used to modify the behavior of another function. It takes in a function as an argument and adds functionality to it without modifying the source code of the original function.\n",
    "\n",
    "Decorator wwrap a function and modify it's behaviour in one way or the another without having to directly change the source code of the function being decorated.\n"
   ]
  },
  {
   "cell_type": "code",
   "execution_count": 61,
   "id": "1bfb1300",
   "metadata": {},
   "outputs": [
    {
     "name": "stdout",
     "output_type": "stream",
     "text": [
      "INDIA\n"
     ]
    }
   ],
   "source": [
    "def upper_l(func):\n",
    "    def wrapper():\n",
    "        str = func()\n",
    "        modified_var = str.upper()\n",
    "        return modified_var\n",
    "    return wrapper\n",
    "\n",
    "@upper_l\n",
    "def string_var():\n",
    "    str = \"india\"\n",
    "    return str\n",
    "\n",
    "print(string_var())"
   ]
  },
  {
   "cell_type": "code",
   "execution_count": 45,
   "id": "a23011b7",
   "metadata": {},
   "outputs": [
    {
     "name": "stdout",
     "output_type": "stream",
     "text": [
      "********************\n",
      "Wappnet Systems\n",
      "********************\n"
     ]
    }
   ],
   "source": [
    "def decorator_func(func):\n",
    "    def wrapper_func():\n",
    "        print('*'*20)\n",
    "        func()\n",
    "        print('*'*20)\n",
    "    return wrapper_func\n",
    "\n",
    "\n",
    "@decorator_func\n",
    "def hello():\n",
    "    print(\"Wappnet Systems\")\n",
    "    \n",
    "# hello_var = decorator_func(hello)\n",
    "# hello_var()\n",
    "\n",
    "hello()"
   ]
  },
  {
   "cell_type": "code",
   "execution_count": 25,
   "id": "7ac3989b",
   "metadata": {},
   "outputs": [
    {
     "name": "stdout",
     "output_type": "stream",
     "text": [
      "Before function call\n",
      "Hello John\n",
      "After function call\n"
     ]
    }
   ],
   "source": [
    "def decorator_function(func):\n",
    "    def wrapper_function(*args, **kwargs):\n",
    "        \"\"\"This is the wrapper function\"\"\"\n",
    "        print(\"Before function call\")\n",
    "        func(*args, **kwargs)\n",
    "        print(\"After function call\")\n",
    "    return wrapper_function\n",
    "\n",
    "@decorator_function\n",
    "def say_hello(name):\n",
    "    \"\"\"This is the original function\"\"\"\n",
    "    print(\"Hello \" + name)\n",
    "\n",
    "say_hello(\"John\")\n"
   ]
  },
  {
   "cell_type": "markdown",
   "id": "3383a78a",
   "metadata": {},
   "source": [
    "# Generators and Iterators Protocol"
   ]
  },
  {
   "cell_type": "markdown",
   "id": "a3c4b95a",
   "metadata": {},
   "source": [
    "Python Generators are the functions that return the traversal object and used to create iterators. It traverses the entire items at once. The generator can also be an expression in which syntax is similar to the list comprehension in Python.\n",
    "\n",
    "There is a lot of complexity in creating iteration in Python; we need to implement __iter__() and __next__() method to keep track of internal states.\n",
    "\n",
    "We use yield keyword instead of return keyword in generators. So, if any function contains yield keyword than it is generator.\n",
    "\n",
    "Iterable: objects can be passed to the built-in iter() function to get an iterator.\n",
    "\n",
    "Iterator: objects can be passed to the built-in next() function to fetch the next item.\n",
    "\n",
    "iterator = iter(iterable)\n",
    "item = next(iterator)"
   ]
  },
  {
   "cell_type": "code",
   "execution_count": 25,
   "id": "3caa5248",
   "metadata": {},
   "outputs": [
    {
     "name": "stdout",
     "output_type": "stream",
     "text": [
      "0\n",
      "1\n",
      "2\n",
      "3\n",
      "4\n",
      "5\n",
      "6\n",
      "7\n",
      "8\n",
      "9\n"
     ]
    }
   ],
   "source": [
    "def gen_func():\n",
    "    for i in range(10):\n",
    "        yield i\n",
    "    \n",
    "for item in gen_func():\n",
    "  print(item)"
   ]
  },
  {
   "cell_type": "code",
   "execution_count": 31,
   "id": "bcde0205",
   "metadata": {},
   "outputs": [
    {
     "name": "stdout",
     "output_type": "stream",
     "text": [
      "0\n",
      "2\n",
      "4\n",
      "6\n",
      "8\n"
     ]
    }
   ],
   "source": [
    "def simple():  \n",
    "    for i in range(10):  \n",
    "        if(i%2==0):  \n",
    "            yield i  \n",
    "            \n",
    "for i in simple():  \n",
    "    print(i)"
   ]
  },
  {
   "cell_type": "code",
   "execution_count": 32,
   "id": "db8ea4aa",
   "metadata": {},
   "outputs": [
    {
     "name": "stdout",
     "output_type": "stream",
     "text": [
      "First String\n",
      "Second string\n",
      "Third String\n"
     ]
    }
   ],
   "source": [
    "def multiple_yield():  \n",
    "    str1 = \"First String\"  \n",
    "    yield str1  \n",
    "  \n",
    "    str2 = \"Second string\"  \n",
    "    yield str2  \n",
    "  \n",
    "    str3 = \"Third String\"  \n",
    "    yield str3  \n",
    "obj = multiple_yield()  \n",
    "print(next(obj))  \n",
    "print(next(obj))  \n",
    "print(next(obj))  "
   ]
  },
  {
   "cell_type": "markdown",
   "id": "d1c938a1",
   "metadata": {},
   "source": [
    "<b>Difference between Generator function and Normal function</b>\n",
    "\n",
    "<li>Normal function contains only one return statement whereas generator function can contain one or more yield statement.</li>\n",
    "\n",
    "<li>When the generator functions are called, the normal function is paused immediately and control transferred to the caller</li>\n",
    "\n",
    "<li>Local variable and their states are remembered between successive calls.</li>\n",
    "\n",
    "<li>StopIteration exception is raised automatically when the function terminates.</li>\n",
    "\n",
    "<li>We can easily create a generator expression without using user-defined function.</li>"
   ]
  },
  {
   "cell_type": "markdown",
   "id": "77743637",
   "metadata": {},
   "source": [
    "# Operator Overloading in Python"
   ]
  },
  {
   "cell_type": "markdown",
   "id": "0dbf24bf",
   "metadata": {},
   "source": [
    "Operator overloading in Python is the ability to change the behavior of an operator depending on the operands it is given. This means that the same operator can be used to perform different operations depending on the type of objects or arguments it is given. \n",
    "For example, the addition (‘+’) operator can be used to add two numbers, concatenate two strings, and merge two lists. Here '+' operator is overloaded by int class and str class.\n",
    "\n",
    "The '*' operator is use fro multiply two numbers or it is used to repeat a particular string.\n",
    "\n",
    "In operator overloading same operator or funaction shows different behavior. \n",
    "\n",
    "To perform operator overloading Python provides some special functions or magic functions that is automatically invoked when it is associated with that particular operator. When we use '+' operator, the magic method \"__add__\" is automatically called."
   ]
  },
  {
   "cell_type": "code",
   "execution_count": 34,
   "id": "6a4771ce",
   "metadata": {},
   "outputs": [
    {
     "name": "stdout",
     "output_type": "stream",
     "text": [
      "50\n",
      "Data Analysis\n"
     ]
    }
   ],
   "source": [
    "print(20 + 30)\n",
    "\n",
    "print(\"Data\" + \" \" + \"Analysis\")"
   ]
  },
  {
   "cell_type": "code",
   "execution_count": 38,
   "id": "0145af57",
   "metadata": {},
   "outputs": [
    {
     "name": "stdout",
     "output_type": "stream",
     "text": [
      "30\n",
      "PythonPythonPython\n"
     ]
    }
   ],
   "source": [
    "print(10 * 3)\n",
    "\n",
    "print(\"Python\" * 3)"
   ]
  },
  {
   "cell_type": "markdown",
   "id": "75350b6e",
   "metadata": {},
   "source": [
    "# Inheritance and Encapsulation in python"
   ]
  },
  {
   "cell_type": "markdown",
   "id": "fae851e1",
   "metadata": {},
   "source": [
    "<b> Inheritance: </b> <br>\n",
    "Inheritance is the process of creating a new class from an existing class (called the parent class). The new class (called the child class) inherits all the properties and methods of the parent class, and can have its own additional properties and methods. This allows us to reuse code by creating new classes that inherit from existing ones.\n",
    "\n",
    "<b>Benefits of inheritance are: </b>\n",
    "<li>\n",
    "    <ol> It represents real-world relationships well.</ol>\n",
    "    <ol> It provides the reusability of a code. We don’t have to write the same code again and again. Also, it allows us to\n",
    "         add more features to a class without modifying it.</ol>\n",
    "    <ol> It is transitive in nature, which means that if class B inherits from another class A, then all the subclasses of\n",
    "         B would automatically inherit from class A.</ol>\n",
    "    <ol>Inheritance offers a simple, understandable model structure. </ol>\n",
    "    <ol>Less development and maintenance expenses result from an inheritance. </ol>\n",
    "</li>\n",
    "\n",
    "\n",
    "\n",
    "Types of Inheritance are:\n",
    "\n",
    "<pre>\n",
    "    -> Single Inheritance\n",
    "    -> Multiple Inheritance\n",
    "    -> Multilevel Inheritance\n",
    "    -> Hierarchical Inheritance\n",
    "    -> Hybrid Inheritance</pre>\n"
   ]
  },
  {
   "cell_type": "code",
   "execution_count": 53,
   "id": "e8ee17f4",
   "metadata": {},
   "outputs": [
    {
     "name": "stdout",
     "output_type": "stream",
     "text": [
      "Meera False\n",
      "Prakash True\n"
     ]
    }
   ],
   "source": [
    "# Single Inheritance\n",
    "\n",
    "class Person():\n",
    "\n",
    "\n",
    "    def __init__(self, name):\n",
    "        self.name = name\n",
    "\n",
    "    def getName(self):\n",
    "        return self.name\n",
    "\n",
    "    def isEmployee(self):\n",
    "        return False\n",
    "\n",
    "\n",
    "class Employee(Person):\n",
    "\n",
    "    def isEmployee(self):\n",
    "        return True\n",
    "\n",
    "\n",
    "\n",
    "emp = Person(\"Meera\") \n",
    "print(emp.getName(), emp.isEmployee())\n",
    "\n",
    "emp = Employee(\"Prakash\")\n",
    "print(emp.getName(), emp.isEmployee())\n"
   ]
  },
  {
   "cell_type": "markdown",
   "id": "161de872",
   "metadata": {},
   "source": [
    "\n",
    "<b>Encapsulation: </b><br>\n",
    "Encapsulation is the process of hiding information about an object. This is done by wrapping the data and associated methods into a single unit, called an object. Encapsulation helps protect the data from unauthorized access and modification, and also helps make the code more maintainable by keeping related code together in the same object."
   ]
  },
  {
   "cell_type": "code",
   "execution_count": 56,
   "id": "10b43e75",
   "metadata": {},
   "outputs": [
    {
     "name": "stdout",
     "output_type": "stream",
     "text": [
      "Calling protected member of base class:  2\n",
      "Calling modified protected member outside class:  3\n",
      "Accessing protected member of obj1:  3\n",
      "Accessing protected member of obj2:  2\n"
     ]
    }
   ],
   "source": [
    "\n",
    "class Base:\n",
    "    def __init__(self):\n",
    "\n",
    "\n",
    "        self._a = 2\n",
    "\n",
    "class Derived(Base):\n",
    "    def __init__(self):\n",
    "\n",
    "\n",
    "        Base.__init__(self)\n",
    "        print(\"Calling protected member of base class: \",self._a)\n",
    "\n",
    "        self._a = 3\n",
    "        print(\"Calling modified protected member outside class: \",self._a)\n",
    "\n",
    "\n",
    "obj1 = Derived()\n",
    "\n",
    "obj2 = Base()\n",
    "\n",
    "print(\"Accessing protected member of obj1: \", obj1._a)\n",
    "\n",
    "print(\"Accessing protected member of obj2: \", obj2._a)\n"
   ]
  },
  {
   "cell_type": "markdown",
   "id": "d3ce6b3d",
   "metadata": {},
   "source": [
    "# @staticmethod and @classmethod"
   ]
  },
  {
   "cell_type": "markdown",
   "id": "312d2e66",
   "metadata": {},
   "source": [
    "<pre>class attributes versus instance attributes:\n",
    "Class A:\n",
    "    CLASS_ATTRIBUTE = 1\n",
    "    Def __init__(slef, instance_attribute):\n",
    "        Self.instance_attribute = instance_attribute</pre>\n",
    "        \n",
    "        \n",
    "        \n",
    "If you need to access class attributes within the function, prefer to use @classmethod.\n",
    "\n",
    "If you don’t need to use class object then use the @static method.\n",
    "\n",
    "Unlike other languages, In python static method can be overridden in a subclass.\n",
    "\n",
    "When function decorated with @staticmethod is called, we don’t pass an instance of the class to it as it is normally done with methods. It means that the function is put inside the class but it cannot access the instance of that class.\n"
   ]
  },
  {
   "cell_type": "code",
   "execution_count": 58,
   "id": "defa18e8",
   "metadata": {},
   "outputs": [
    {
     "name": "stdout",
     "output_type": "stream",
     "text": [
      "The result is 5\n"
     ]
    }
   ],
   "source": [
    "\n",
    "class Maths():\n",
    "\n",
    "    @staticmethod\n",
    "    def addNum(num1, num2):\n",
    "        return num1 + num2\n",
    "\n",
    "\n",
    "if __name__ == \"__main__\":\n",
    "\n",
    "    res = Maths.addNum(3, 2)\n",
    "    print(\"The result is\", res)\n"
   ]
  },
  {
   "cell_type": "code",
   "execution_count": 69,
   "id": "8f49a746",
   "metadata": {},
   "outputs": [
    {
     "name": "stdout",
     "output_type": "stream",
     "text": [
      "Enrolled course :  Data Analysis\n"
     ]
    }
   ],
   "source": [
    "class student:\n",
    "    course = 'Data Analysis'\n",
    "\n",
    "    def purchase(obj):\n",
    "        print(\"Enrolled course : \", obj.course)\n",
    "\n",
    "\n",
    "student.purchase = classmethod(student.purchase)\n",
    "student.purchase()\n",
    "\n"
   ]
  },
  {
   "cell_type": "markdown",
   "id": "85f0fa9a",
   "metadata": {},
   "source": [
    "</b>Class method vs Static Method</b>\n",
    "<li>A class method takes cls as the first parameter while a static method needs no specific parameters.</li>\n",
    "<li>A class method can access or modify the class state while a static method can’t access or modify it.</li>\n",
    "<li>In general, static methods know nothing about the class state. They are utility-type methods that take some parameters and work upon those parameters. On the other hand class methods must have class as a parameter.</li>\n",
    "<li>We use @classmethod decorator in python to create a class method and we use @staticmethod decorator to create a static method in python.</li>"
   ]
  },
  {
   "cell_type": "markdown",
   "id": "5d6096ea",
   "metadata": {},
   "source": [
    "# Python Package and Program Layout "
   ]
  },
  {
   "cell_type": "markdown",
   "id": "5073e442",
   "metadata": {},
   "source": [
    "Package is a module which can contain other modules.\n",
    "\n",
    "Sys.path list of directories Python searches for modules.\n",
    "\n",
    "PYTHONPATH Environment variable listing paths added to sys.path.\n",
    "\n",
    "1. Packages are modules that contain other modules.\n",
    "\n",
    "2. Packages are generally implemented as directories containing a special __init__.py file.\n",
    "\n",
    "3. The __init__.py file is executed when the package is imported.\n",
    "\n",
    "4. Packages can contain sub-packages that themselves are implemented with __init__.py files in directories.\n",
    "\n",
    "5. The module objects for packages have a __path__ attribute.\n",
    "\n",
    "absolute imports: imports that use a full path to the module.\n",
    "\n",
    "from test.test import Tester\n",
    "\n",
    "relative imports: imports that use a relative path to modules in the same package.\n",
    "\n",
    "from .test import Tester\n",
    "\n",
    "__all__: list of attribute names imported via from module import *\n",
    "\n",
    "\n",
    "\n",
    "\n",
    "\n",
    "<br>\n",
    "Program layout in python depends on the type of program being written. Generally, python programs are made up of multiple files, each containing a specific set of instructions or code.\n",
    "\n",
    "For a simple program, the basic layout may include:\n",
    "\n",
    "1. The Main File: This is the main file of the program, and is usually the first file that is run. It contains the main function, which is typically called “main()”. This is where the user will enter their input, and the program will start executing the code.\n",
    "\n",
    "2. Modules: These are additional files containing code that will be used by the main file. Modules can contain code for various functions, classes, and other code that can be used by the main file.\n",
    "\n",
    "3. Data Files: These are files containing data that will be used by the program. Data files can contain settings, configuration files, and other data that the program needs to run correctly.\n",
    "\n",
    "4. Documentation: This is a set of files containing instructions and information about the program. This is important for users to understand how to use the program and to troubleshoot any issues they may encounter."
   ]
  },
  {
   "cell_type": "code",
   "execution_count": null,
   "id": "f17f933b",
   "metadata": {},
   "outputs": [],
   "source": []
  }
 ],
 "metadata": {
  "kernelspec": {
   "display_name": "Python 3 (ipykernel)",
   "language": "python",
   "name": "python3"
  },
  "language_info": {
   "codemirror_mode": {
    "name": "ipython",
    "version": 3
   },
   "file_extension": ".py",
   "mimetype": "text/x-python",
   "name": "python",
   "nbconvert_exporter": "python",
   "pygments_lexer": "ipython3",
   "version": "3.9.7"
  }
 },
 "nbformat": 4,
 "nbformat_minor": 5
}
